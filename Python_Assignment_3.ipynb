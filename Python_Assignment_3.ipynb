{
 "cells": [
  {
   "cell_type": "code",
   "execution_count": 12,
   "metadata": {},
   "outputs": [
    {
     "name": "stdout",
     "output_type": "stream",
     "text": [
      "['x', 'xx', 'xxx', 'xxxx', 'y', 'yy', 'yyy', 'yyyy', 'z', 'zz', 'zzz', 'zzzz']\n",
      "['x', 'y', 'z', 'xx', 'yy', 'zz', 'xxx', 'yyy', 'zzz', 'xxxx', 'yyyy', 'zzzz']\n",
      "[[2], [3], [4], [3], [4], [5], [4], [5], [6]]\n",
      "[[2, 3, 4, 5], [3, 4, 5, 6], [4, 5, 6, 7], [5, 6, 7, 8]]\n",
      "[(1, 1), (2, 1), (3, 1), (1, 2), (2, 2), (3, 2), (1, 3), (2, 3), (3, 3)]\n"
     ]
    }
   ],
   "source": [
    "#Q2 .2.#Implement List comprehensions to produce the following lists.\n",
    "#Write List comprehensions to produce the following Lists\n",
    "\n",
    "l1=list('xyz')\n",
    "l2=[x*n for x in l1 for n in range(1,5) ]\n",
    "print(l2)\n",
    "\n",
    "l3=[x*n for n in range(1,5) for x in l1 ]\n",
    "print(l3)\n",
    "\n",
    "#Section 4\n",
    "number=[2,3,4]\n",
    "number_1=[[x+n] for x in number for n in range(0,3)]\n",
    "print(number_1)\n",
    "\n",
    "#Section 5\n",
    "number_2=[2,3,4,5]\n",
    "number_3=[[x+n for n in number_2] for x in range(0,4) ]\n",
    "print(number_3)\n",
    "\n",
    "#Section 6\n",
    "number_4=[1,2,3]\n",
    "number_5= [(b,a) for a in number_4 for b in number_4]\n",
    "print(number_5)"
   ]
  },
  {
   "cell_type": "code",
   "execution_count": 17,
   "metadata": {},
   "outputs": [
    {
     "name": "stdout",
     "output_type": "stream",
     "text": [
      "Please Enter the number :20\n",
      "List of numbers are: [1, 2, 3, 4, 5, 6, 7, 8, 9, 10, 11, 12, 13, 14, 15, 16, 17, 18, 19, 20]\n",
      "Sum of numbers are : 210\n"
     ]
    }
   ],
   "source": [
    "#1.1 Write a Python Program to implement your own myreduce() function which works exactly\n",
    "#like Python's built-in function reduce()\n",
    "\n",
    "''' This functionm will return sum of numbers enetered by user'''\n",
    "#Asking for input number\n",
    "num=int(input(\"Please Enter the number :\"))\n",
    "\n",
    "\n",
    "\n",
    "def myreduce(num):\n",
    "    num_list=list(range(1,num+1))\n",
    "    sum=0\n",
    "    \n",
    "    for i in num_list:\n",
    "        sum+=i\n",
    "        \n",
    "    return num_list,sum\n",
    "\n",
    "\n",
    "##Calling the function\n",
    "\n",
    "output=myreduce(num)\n",
    "print(\"List of numbers are:\",output_value[0])\n",
    "print(\"Sum of numbers are :\",output_value[1])"
   ]
  },
  {
   "cell_type": "code",
   "execution_count": 25,
   "metadata": {},
   "outputs": [
    {
     "name": "stdout",
     "output_type": "stream",
     "text": [
      "Please insert the number: 20\n",
      "List of numbers: [1, 2, 3, 4, 5, 6, 7, 8, 9, 10, 11, 12, 13, 14, 15, 16, 17, 18, 19, 20]\n",
      "List of Even numbers: [2, 4, 6, 8, 10, 12, 14, 16, 18, 20]\n",
      "List of Odd numbers: [1, 3, 5, 7, 9, 11, 13, 15, 17, 19]\n"
     ]
    }
   ],
   "source": [
    "##1.2 Write a Python program to implement your own myfilter() function which works exactly\n",
    "#like Python's built-in function filter()\n",
    "\n",
    "num=int(input(\"Please insert the number: \"))\n",
    "\n",
    "num_list=list(range(1,num+1))\n",
    "\n",
    "\n",
    "\n",
    "def myfilter(num_list):\n",
    "    even_l=[]\n",
    "    odd_l=[]\n",
    "    for i in num_list:\n",
    "        if i % 2 ==0:\n",
    "            even_l.append(i)\n",
    "        else:\n",
    "            odd_l.append(i)\n",
    "    return even_l, odd_l\n",
    "\n",
    "result=myfilter(num_list)\n",
    "print(\"List of numbers:\",num_list)\n",
    "print(\"List of Even numbers:\",result[0])\n",
    "print(\"List of Odd numbers:\",result[1])\n"
   ]
  },
  {
   "cell_type": "code",
   "execution_count": 24,
   "metadata": {},
   "outputs": [
    {
     "name": "stdout",
     "output_type": "stream",
     "text": [
      "Please insert the number: 20\n",
      "odd numbers:[1, 3, 5, 7, 9, 11, 13, 15, 17, 19]\n",
      "even numbers:[2, 4, 6, 8, 10, 12, 14, 16, 18, 20]\n"
     ]
    }
   ],
   "source": [
    "num=int(input(\"Please insert the number: \"))\n",
    "\n",
    "num_list=list(range(1,num+1))\n",
    "\n",
    "# result contains odd numbers of the list\n",
    "odd_result = filter(lambda x: x % 2 != 0, num_list)\n",
    "print(f\"odd numbers:{list(odd_result)}\")\n",
    "  \n",
    "# result contains even numbers of the list\n",
    "even_result = filter(lambda x: x % 2 == 0, num_list)\n",
    "print(f\"even numbers:{list(even_result)}\")"
   ]
  },
  {
   "cell_type": "code",
   "execution_count": null,
   "metadata": {},
   "outputs": [],
   "source": []
  }
 ],
 "metadata": {
  "kernelspec": {
   "display_name": "Python 3",
   "language": "python",
   "name": "python3"
  },
  "language_info": {
   "codemirror_mode": {
    "name": "ipython",
    "version": 3
   },
   "file_extension": ".py",
   "mimetype": "text/x-python",
   "name": "python",
   "nbconvert_exporter": "python",
   "pygments_lexer": "ipython3",
   "version": "3.8.5"
  }
 },
 "nbformat": 4,
 "nbformat_minor": 4
}
